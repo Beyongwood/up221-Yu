{
 "cells": [
  {
   "cell_type": "code",
   "execution_count": 2,
   "id": "386f6036-fb18-4f0a-a04c-6d2c38221082",
   "metadata": {},
   "outputs": [],
   "source": [
    "I am Yu Wang. And this is the data is Homeless count inLA.\n",
    "I downloaded it from https://geohub.lacity.org/datasets/lahub::los-angeles-poverty-statistics/about"
   ]
  },
  {
   "cell_type": "code",
   "execution_count": 2,
   "id": "33c52440-6d3c-4d81-be06-70dd92c5469e",
   "metadata": {},
   "outputs": [],
   "source": [
    "Import pandas to provide data structures to analyzing tabular data\n",
    "Import geopandas to help me work with geospatial data"
   ]
  },
  {
   "cell_type": "code",
   "execution_count": 20,
   "id": "5c800e88-9589-4d2c-9267-bd3aaf0a124a",
   "metadata": {},
   "outputs": [],
   "source": [
    "import pandas as pd\n",
    "import geopandas as gpd"
   ]
  },
  {
   "cell_type": "code",
   "execution_count": null,
   "id": "66b61d0b-63be-4ad7-a363-e100d867c4eb",
   "metadata": {},
   "outputs": [],
   "source": [
    "Load the data that I need to analyze.\n",
    "I use read_file() in GeoPandas(which is pandas can't do) is used to read various geospatial file formats and create a GeoDataFrame."
   ]
  },
  {
   "cell_type": "code",
   "execution_count": 99,
   "id": "b13e8336-91cd-4a29-86e4-293aabb991e8",
   "metadata": {
    "scrolled": true
   },
   "outputs": [
    {
     "data": {
      "text/html": [
       "<div>\n",
       "<style scoped>\n",
       "    .dataframe tbody tr th:only-of-type {\n",
       "        vertical-align: middle;\n",
       "    }\n",
       "\n",
       "    .dataframe tbody tr th {\n",
       "        vertical-align: top;\n",
       "    }\n",
       "\n",
       "    .dataframe thead th {\n",
       "        text-align: right;\n",
       "    }\n",
       "</style>\n",
       "<table border=\"1\" class=\"dataframe\">\n",
       "  <thead>\n",
       "    <tr style=\"text-align: right;\">\n",
       "      <th></th>\n",
       "      <th>FID</th>\n",
       "      <th>Tract_N</th>\n",
       "      <th>SPA</th>\n",
       "      <th>Detailed_1</th>\n",
       "      <th>CD</th>\n",
       "      <th>Detailed_N</th>\n",
       "      <th>SD</th>\n",
       "      <th>Tract_1</th>\n",
       "      <th>Year_1</th>\n",
       "      <th>totUnshe_1</th>\n",
       "      <th>totShelt_1</th>\n",
       "      <th>totPeopl_1</th>\n",
       "      <th>u_dens</th>\n",
       "      <th>s_dens</th>\n",
       "      <th>t_dens</th>\n",
       "      <th>unincorpor</th>\n",
       "      <th>SHAPE_Length</th>\n",
       "      <th>SHAPE_Area</th>\n",
       "      <th>geometry</th>\n",
       "    </tr>\n",
       "  </thead>\n",
       "  <tbody>\n",
       "    <tr>\n",
       "      <th>0</th>\n",
       "      <td>1</td>\n",
       "      <td>101110</td>\n",
       "      <td>2</td>\n",
       "      <td>Sunland-Tujunga NC</td>\n",
       "      <td>7</td>\n",
       "      <td>Sunland-Tujunga NC</td>\n",
       "      <td>5</td>\n",
       "      <td>101110</td>\n",
       "      <td>2019</td>\n",
       "      <td>12.614</td>\n",
       "      <td>0</td>\n",
       "      <td>12.614</td>\n",
       "      <td>28.600087</td>\n",
       "      <td>0</td>\n",
       "      <td>28.600087</td>\n",
       "      <td>No</td>\n",
       "      <td>0.0471721008519375</td>\n",
       "      <td>0.00011181334606242</td>\n",
       "      <td>None</td>\n",
       "    </tr>\n",
       "    <tr>\n",
       "      <th>1</th>\n",
       "      <td>2</td>\n",
       "      <td>101122</td>\n",
       "      <td>2</td>\n",
       "      <td>Sunland-Tujunga NC</td>\n",
       "      <td>7</td>\n",
       "      <td>Sunland-Tujunga NC</td>\n",
       "      <td>5</td>\n",
       "      <td>101122</td>\n",
       "      <td>2019</td>\n",
       "      <td>1</td>\n",
       "      <td>0</td>\n",
       "      <td>1</td>\n",
       "      <td>0.979639</td>\n",
       "      <td>0</td>\n",
       "      <td>0.979639</td>\n",
       "      <td>No</td>\n",
       "      <td>0.0962339347554264</td>\n",
       "      <td>0.000258823875630102</td>\n",
       "      <td>None</td>\n",
       "    </tr>\n",
       "    <tr>\n",
       "      <th>2</th>\n",
       "      <td>3</td>\n",
       "      <td>101210</td>\n",
       "      <td>2</td>\n",
       "      <td>Sunland-Tujunga NC</td>\n",
       "      <td>7</td>\n",
       "      <td>Sunland-Tujunga NC</td>\n",
       "      <td>5</td>\n",
       "      <td>101210</td>\n",
       "      <td>2019</td>\n",
       "      <td>14.517</td>\n",
       "      <td>0</td>\n",
       "      <td>14.517</td>\n",
       "      <td>57.787763</td>\n",
       "      <td>0</td>\n",
       "      <td>57.787763</td>\n",
       "      <td>No</td>\n",
       "      <td>0.037363089208827</td>\n",
       "      <td>6.36816537645965e-05</td>\n",
       "      <td>None</td>\n",
       "    </tr>\n",
       "    <tr>\n",
       "      <th>3</th>\n",
       "      <td>4</td>\n",
       "      <td>101220</td>\n",
       "      <td>2</td>\n",
       "      <td>Sunland-Tujunga NC</td>\n",
       "      <td>7</td>\n",
       "      <td>Sunland-Tujunga NC</td>\n",
       "      <td>5</td>\n",
       "      <td>101220</td>\n",
       "      <td>2019</td>\n",
       "      <td>24.058</td>\n",
       "      <td>0</td>\n",
       "      <td>24.058</td>\n",
       "      <td>89.152876</td>\n",
       "      <td>0</td>\n",
       "      <td>89.152876</td>\n",
       "      <td>No</td>\n",
       "      <td>0.0384971371240107</td>\n",
       "      <td>6.84091936349453e-05</td>\n",
       "      <td>None</td>\n",
       "    </tr>\n",
       "    <tr>\n",
       "      <th>4</th>\n",
       "      <td>5</td>\n",
       "      <td>101300</td>\n",
       "      <td>2</td>\n",
       "      <td>Sunland-Tujunga NC</td>\n",
       "      <td>7</td>\n",
       "      <td>Sunland-Tujunga NC</td>\n",
       "      <td>5</td>\n",
       "      <td>101300</td>\n",
       "      <td>2019</td>\n",
       "      <td>9.278</td>\n",
       "      <td>0</td>\n",
       "      <td>9.278</td>\n",
       "      <td>9.313195</td>\n",
       "      <td>0</td>\n",
       "      <td>9.313195</td>\n",
       "      <td>No</td>\n",
       "      <td>0.0858083267145437</td>\n",
       "      <td>0.000252660776264925</td>\n",
       "      <td>None</td>\n",
       "    </tr>\n",
       "    <tr>\n",
       "      <th>...</th>\n",
       "      <td>...</td>\n",
       "      <td>...</td>\n",
       "      <td>...</td>\n",
       "      <td>...</td>\n",
       "      <td>...</td>\n",
       "      <td>...</td>\n",
       "      <td>...</td>\n",
       "      <td>...</td>\n",
       "      <td>...</td>\n",
       "      <td>...</td>\n",
       "      <td>...</td>\n",
       "      <td>...</td>\n",
       "      <td>...</td>\n",
       "      <td>...</td>\n",
       "      <td>...</td>\n",
       "      <td>...</td>\n",
       "      <td>...</td>\n",
       "      <td>...</td>\n",
       "      <td>...</td>\n",
       "    </tr>\n",
       "    <tr>\n",
       "      <th>2158</th>\n",
       "      <td>2159</td>\n",
       "      <td>980025</td>\n",
       "      <td>8</td>\n",
       "      <td>Carson</td>\n",
       "      <td>0</td>\n",
       "      <td>Carson</td>\n",
       "      <td>2</td>\n",
       "      <td>980025</td>\n",
       "      <td>2019</td>\n",
       "      <td>32.028</td>\n",
       "      <td>0</td>\n",
       "      <td>32.028</td>\n",
       "      <td>27.933158</td>\n",
       "      <td>0</td>\n",
       "      <td>27.933158</td>\n",
       "      <td>No</td>\n",
       "      <td>0.0950651758119922</td>\n",
       "      <td>0.000288956452899211</td>\n",
       "      <td>None</td>\n",
       "    </tr>\n",
       "    <tr>\n",
       "      <th>2159</th>\n",
       "      <td>2160</td>\n",
       "      <td>980026</td>\n",
       "      <td>2</td>\n",
       "      <td>Sunland-Tujunga NC</td>\n",
       "      <td>7</td>\n",
       "      <td>Sunland-Tujunga NC</td>\n",
       "      <td>5</td>\n",
       "      <td>980026</td>\n",
       "      <td>2019</td>\n",
       "      <td>0</td>\n",
       "      <td>0</td>\n",
       "      <td>0</td>\n",
       "      <td>0</td>\n",
       "      <td>0</td>\n",
       "      <td>0</td>\n",
       "      <td>No</td>\n",
       "      <td>0.321858526563682</td>\n",
       "      <td>0.00137468142833197</td>\n",
       "      <td>None</td>\n",
       "    </tr>\n",
       "    <tr>\n",
       "      <th>2160</th>\n",
       "      <td>2161</td>\n",
       "      <td>980028</td>\n",
       "      <td>5</td>\n",
       "      <td>Westchester/Playa NC</td>\n",
       "      <td>11</td>\n",
       "      <td>Westchester/Playa NC</td>\n",
       "      <td>4</td>\n",
       "      <td>980028</td>\n",
       "      <td>2019</td>\n",
       "      <td>130.4</td>\n",
       "      <td>0</td>\n",
       "      <td>130.4</td>\n",
       "      <td>19.459076</td>\n",
       "      <td>0</td>\n",
       "      <td>19.459076</td>\n",
       "      <td>No</td>\n",
       "      <td>0.253026542516653</td>\n",
       "      <td>0.00168383753086847</td>\n",
       "      <td>None</td>\n",
       "    </tr>\n",
       "    <tr>\n",
       "      <th>2161</th>\n",
       "      <td>2162</td>\n",
       "      <td>980030</td>\n",
       "      <td>8</td>\n",
       "      <td>El Segundo</td>\n",
       "      <td>0</td>\n",
       "      <td>El Segundo</td>\n",
       "      <td>4</td>\n",
       "      <td>980030</td>\n",
       "      <td>2019</td>\n",
       "      <td>4.961</td>\n",
       "      <td>0</td>\n",
       "      <td>4.961</td>\n",
       "      <td>3.001591</td>\n",
       "      <td>0</td>\n",
       "      <td>3.001591</td>\n",
       "      <td>No</td>\n",
       "      <td>0.0924538189127169</td>\n",
       "      <td>0.000413710869346569</td>\n",
       "      <td>None</td>\n",
       "    </tr>\n",
       "    <tr>\n",
       "      <th>2162</th>\n",
       "      <td>2163</td>\n",
       "      <td>980031</td>\n",
       "      <td>8</td>\n",
       "      <td>Wilmington NC</td>\n",
       "      <td>15</td>\n",
       "      <td>Wilmington NC</td>\n",
       "      <td>4</td>\n",
       "      <td>980031</td>\n",
       "      <td>2019</td>\n",
       "      <td>5</td>\n",
       "      <td>0</td>\n",
       "      <td>5</td>\n",
       "      <td>2.108613</td>\n",
       "      <td>0</td>\n",
       "      <td>2.108613</td>\n",
       "      <td>No</td>\n",
       "      <td>0.816691124964907</td>\n",
       "      <td>0.0013371533255194</td>\n",
       "      <td>None</td>\n",
       "    </tr>\n",
       "  </tbody>\n",
       "</table>\n",
       "<p>2163 rows × 19 columns</p>\n",
       "</div>"
      ],
      "text/plain": [
       "       FID Tract_N SPA            Detailed_1  CD            Detailed_N SD  \\\n",
       "0        1  101110   2    Sunland-Tujunga NC   7    Sunland-Tujunga NC  5   \n",
       "1        2  101122   2    Sunland-Tujunga NC   7    Sunland-Tujunga NC  5   \n",
       "2        3  101210   2    Sunland-Tujunga NC   7    Sunland-Tujunga NC  5   \n",
       "3        4  101220   2    Sunland-Tujunga NC   7    Sunland-Tujunga NC  5   \n",
       "4        5  101300   2    Sunland-Tujunga NC   7    Sunland-Tujunga NC  5   \n",
       "...    ...     ...  ..                   ...  ..                   ... ..   \n",
       "2158  2159  980025   8                Carson   0                Carson  2   \n",
       "2159  2160  980026   2    Sunland-Tujunga NC   7    Sunland-Tujunga NC  5   \n",
       "2160  2161  980028   5  Westchester/Playa NC  11  Westchester/Playa NC  4   \n",
       "2161  2162  980030   8            El Segundo   0            El Segundo  4   \n",
       "2162  2163  980031   8         Wilmington NC  15         Wilmington NC  4   \n",
       "\n",
       "     Tract_1 Year_1 totUnshe_1 totShelt_1 totPeopl_1     u_dens s_dens  \\\n",
       "0     101110   2019     12.614          0     12.614  28.600087      0   \n",
       "1     101122   2019          1          0          1   0.979639      0   \n",
       "2     101210   2019     14.517          0     14.517  57.787763      0   \n",
       "3     101220   2019     24.058          0     24.058  89.152876      0   \n",
       "4     101300   2019      9.278          0      9.278   9.313195      0   \n",
       "...      ...    ...        ...        ...        ...        ...    ...   \n",
       "2158  980025   2019     32.028          0     32.028  27.933158      0   \n",
       "2159  980026   2019          0          0          0          0      0   \n",
       "2160  980028   2019      130.4          0      130.4  19.459076      0   \n",
       "2161  980030   2019      4.961          0      4.961   3.001591      0   \n",
       "2162  980031   2019          5          0          5   2.108613      0   \n",
       "\n",
       "         t_dens unincorpor        SHAPE_Length            SHAPE_Area geometry  \n",
       "0     28.600087         No  0.0471721008519375   0.00011181334606242     None  \n",
       "1      0.979639         No  0.0962339347554264  0.000258823875630102     None  \n",
       "2     57.787763         No   0.037363089208827  6.36816537645965e-05     None  \n",
       "3     89.152876         No  0.0384971371240107  6.84091936349453e-05     None  \n",
       "4      9.313195         No  0.0858083267145437  0.000252660776264925     None  \n",
       "...         ...        ...                 ...                   ...      ...  \n",
       "2158  27.933158         No  0.0950651758119922  0.000288956452899211     None  \n",
       "2159          0         No   0.321858526563682   0.00137468142833197     None  \n",
       "2160  19.459076         No   0.253026542516653   0.00168383753086847     None  \n",
       "2161   3.001591         No  0.0924538189127169  0.000413710869346569     None  \n",
       "2162   2.108613         No   0.816691124964907    0.0013371533255194     None  \n",
       "\n",
       "[2163 rows x 19 columns]"
      ]
     },
     "execution_count": 99,
     "metadata": {},
     "output_type": "execute_result"
    }
   ],
   "source": [
    "pot = gpd.read_file('data/Homeless_Count_Los_Angeles_County_2019.csv')   \n",
    "pot"
   ]
  },
  {
   "cell_type": "code",
   "execution_count": 100,
   "id": "71239e46-904c-4226-8477-c2a663179193",
   "metadata": {
    "scrolled": true
   },
   "outputs": [
    {
     "name": "stdout",
     "output_type": "stream",
     "text": [
      "  FID Tract_N SPA          Detailed_1 CD          Detailed_N SD Tract_1  \\\n",
      "0   1  101110   2  Sunland-Tujunga NC  7  Sunland-Tujunga NC  5  101110   \n",
      "1   2  101122   2  Sunland-Tujunga NC  7  Sunland-Tujunga NC  5  101122   \n",
      "2   3  101210   2  Sunland-Tujunga NC  7  Sunland-Tujunga NC  5  101210   \n",
      "3   4  101220   2  Sunland-Tujunga NC  7  Sunland-Tujunga NC  5  101220   \n",
      "4   5  101300   2  Sunland-Tujunga NC  7  Sunland-Tujunga NC  5  101300   \n",
      "\n",
      "  Year_1 totUnshe_1 totShelt_1 totPeopl_1     u_dens s_dens     t_dens  \\\n",
      "0   2019     12.614          0     12.614  28.600087      0  28.600087   \n",
      "1   2019          1          0          1   0.979639      0   0.979639   \n",
      "2   2019     14.517          0     14.517  57.787763      0  57.787763   \n",
      "3   2019     24.058          0     24.058  89.152876      0  89.152876   \n",
      "4   2019      9.278          0      9.278   9.313195      0   9.313195   \n",
      "\n",
      "  unincorpor        SHAPE_Length            SHAPE_Area geometry  \n",
      "0         No  0.0471721008519375   0.00011181334606242     None  \n",
      "1         No  0.0962339347554264  0.000258823875630102     None  \n",
      "2         No   0.037363089208827  6.36816537645965e-05     None  \n",
      "3         No  0.0384971371240107  6.84091936349453e-05     None  \n",
      "4         No  0.0858083267145437  0.000252660776264925     None  \n"
     ]
    }
   ],
   "source": [
    "# the top 5 rows in pot by using pandas\n",
    "print(pot.head())"
   ]
  },
  {
   "cell_type": "code",
   "execution_count": 101,
   "id": "3dd9d989-e305-4a3b-a6bb-4627df8ee6d0",
   "metadata": {},
   "outputs": [
    {
     "name": "stdout",
     "output_type": "stream",
     "text": [
      "       FID Tract_N SPA            Detailed_1  CD            Detailed_N SD  \\\n",
      "2160  2161  980028   5  Westchester/Playa NC  11  Westchester/Playa NC  4   \n",
      "2161  2162  980030   8            El Segundo   0            El Segundo  4   \n",
      "2162  2163  980031   8         Wilmington NC  15         Wilmington NC  4   \n",
      "\n",
      "     Tract_1 Year_1 totUnshe_1 totShelt_1 totPeopl_1     u_dens s_dens  \\\n",
      "2160  980028   2019      130.4          0      130.4  19.459076      0   \n",
      "2161  980030   2019      4.961          0      4.961   3.001591      0   \n",
      "2162  980031   2019          5          0          5   2.108613      0   \n",
      "\n",
      "         t_dens unincorpor        SHAPE_Length            SHAPE_Area geometry  \n",
      "2160  19.459076         No   0.253026542516653   0.00168383753086847     None  \n",
      "2161   3.001591         No  0.0924538189127169  0.000413710869346569     None  \n",
      "2162   2.108613         No   0.816691124964907    0.0013371533255194     None  \n"
     ]
    }
   ],
   "source": [
    "# the last 3 rows in pot\n",
    "print(pot.tail(3))"
   ]
  },
  {
   "cell_type": "code",
   "execution_count": 102,
   "id": "49e26932-7d16-46ff-bcfd-d6ad50d350b9",
   "metadata": {
    "scrolled": true
   },
   "outputs": [
    {
     "data": {
      "text/html": [
       "<div>\n",
       "<style scoped>\n",
       "    .dataframe tbody tr th:only-of-type {\n",
       "        vertical-align: middle;\n",
       "    }\n",
       "\n",
       "    .dataframe tbody tr th {\n",
       "        vertical-align: top;\n",
       "    }\n",
       "\n",
       "    .dataframe thead th {\n",
       "        text-align: right;\n",
       "    }\n",
       "</style>\n",
       "<table border=\"1\" class=\"dataframe\">\n",
       "  <thead>\n",
       "    <tr style=\"text-align: right;\">\n",
       "      <th></th>\n",
       "      <th>FID</th>\n",
       "      <th>Tract_N</th>\n",
       "      <th>SPA</th>\n",
       "      <th>Detailed_1</th>\n",
       "      <th>CD</th>\n",
       "      <th>Detailed_N</th>\n",
       "      <th>SD</th>\n",
       "      <th>Tract_1</th>\n",
       "      <th>Year_1</th>\n",
       "      <th>totUnshe_1</th>\n",
       "      <th>totShelt_1</th>\n",
       "      <th>totPeopl_1</th>\n",
       "      <th>u_dens</th>\n",
       "      <th>s_dens</th>\n",
       "      <th>t_dens</th>\n",
       "      <th>unincorpor</th>\n",
       "      <th>SHAPE_Length</th>\n",
       "      <th>SHAPE_Area</th>\n",
       "      <th>geometry</th>\n",
       "    </tr>\n",
       "  </thead>\n",
       "  <tbody>\n",
       "    <tr>\n",
       "      <th>1314</th>\n",
       "      <td>1315</td>\n",
       "      <td>463102</td>\n",
       "      <td>3</td>\n",
       "      <td>East Pasadena</td>\n",
       "      <td>0</td>\n",
       "      <td>East Pasadena</td>\n",
       "      <td>5</td>\n",
       "      <td>463102</td>\n",
       "      <td>2019</td>\n",
       "      <td>2.624</td>\n",
       "      <td>0</td>\n",
       "      <td>2.624</td>\n",
       "      <td>2.680392</td>\n",
       "      <td>0</td>\n",
       "      <td>2.680392</td>\n",
       "      <td>Yes</td>\n",
       "      <td>0.105765667650547</td>\n",
       "      <td>0.000224911423296671</td>\n",
       "      <td>None</td>\n",
       "    </tr>\n",
       "    <tr>\n",
       "      <th>1985</th>\n",
       "      <td>1986</td>\n",
       "      <td>800330</td>\n",
       "      <td>2</td>\n",
       "      <td>Malibu Lake</td>\n",
       "      <td>0</td>\n",
       "      <td>Malibu Lake</td>\n",
       "      <td>3</td>\n",
       "      <td>800330</td>\n",
       "      <td>2019</td>\n",
       "      <td>0</td>\n",
       "      <td>0</td>\n",
       "      <td>0</td>\n",
       "      <td>0</td>\n",
       "      <td>0</td>\n",
       "      <td>0</td>\n",
       "      <td>Yes</td>\n",
       "      <td>0.376748992921602</td>\n",
       "      <td>0.00278040611945439</td>\n",
       "      <td>None</td>\n",
       "    </tr>\n",
       "  </tbody>\n",
       "</table>\n",
       "</div>"
      ],
      "text/plain": [
       "       FID Tract_N SPA     Detailed_1 CD     Detailed_N SD Tract_1 Year_1  \\\n",
       "1314  1315  463102   3  East Pasadena  0  East Pasadena  5  463102   2019   \n",
       "1985  1986  800330   2    Malibu Lake  0    Malibu Lake  3  800330   2019   \n",
       "\n",
       "     totUnshe_1 totShelt_1 totPeopl_1    u_dens s_dens    t_dens unincorpor  \\\n",
       "1314      2.624          0      2.624  2.680392      0  2.680392        Yes   \n",
       "1985          0          0          0         0      0         0        Yes   \n",
       "\n",
       "           SHAPE_Length            SHAPE_Area geometry  \n",
       "1314  0.105765667650547  0.000224911423296671     None  \n",
       "1985  0.376748992921602   0.00278040611945439     None  "
      ]
     },
     "execution_count": 102,
     "metadata": {},
     "output_type": "execute_result"
    }
   ],
   "source": [
    "#show randomly 2 rows from pot\n",
    "pot.sample(2)"
   ]
  },
  {
   "cell_type": "code",
   "execution_count": 103,
   "id": "b379f4a4-24fe-4834-8db9-243fa831acfd",
   "metadata": {},
   "outputs": [
    {
     "data": {
      "text/plain": [
       "geopandas.geodataframe.GeoDataFrame"
      ]
     },
     "execution_count": 103,
     "metadata": {},
     "output_type": "execute_result"
    }
   ],
   "source": [
    "# find the type of pot\n",
    "type(pot)"
   ]
  },
  {
   "cell_type": "code",
   "execution_count": 105,
   "id": "8bca9288-4cde-4704-a011-0a6487c66ac2",
   "metadata": {},
   "outputs": [
    {
     "data": {
      "text/plain": [
       "0    7\n",
       "1    7\n",
       "2    7\n",
       "3    7\n",
       "4    7\n",
       "5    7\n",
       "6    2\n",
       "7    2\n",
       "8    2\n",
       "Name: CD, dtype: object"
      ]
     },
     "execution_count": 105,
     "metadata": {},
     "output_type": "execute_result"
    }
   ],
   "source": [
    "# Get the top 10 data of 'NAME'\n",
    "pot['CD'][0:9]"
   ]
  },
  {
   "cell_type": "code",
   "execution_count": 106,
   "id": "2b87a4d7-d536-465e-9079-28d77c29d5a0",
   "metadata": {},
   "outputs": [
    {
     "data": {
      "text/plain": [
       "2163"
      ]
     },
     "execution_count": 106,
     "metadata": {},
     "output_type": "execute_result"
    }
   ],
   "source": [
    "# to find how many elements in pot\n",
    "len(pot)"
   ]
  },
  {
   "cell_type": "code",
   "execution_count": 107,
   "id": "3901f3e6-80ee-44ea-97e1-e6eee2db9f6b",
   "metadata": {},
   "outputs": [
    {
     "name": "stdout",
     "output_type": "stream",
     "text": [
      "0        7\n",
      "1        7\n",
      "2        7\n",
      "3        7\n",
      "4        7\n",
      "        ..\n",
      "2158     0\n",
      "2159     7\n",
      "2160    11\n",
      "2161     0\n",
      "2162    15\n",
      "Name: CD, Length: 2163, dtype: object\n"
     ]
    }
   ],
   "source": [
    "# put the column NAME into pot_name\n",
    "pot_name=pot['CD']\n",
    "print(pot_name)"
   ]
  },
  {
   "cell_type": "code",
   "execution_count": 109,
   "id": "523bb956-0b2e-4f5a-964b-4716e48bf969",
   "metadata": {},
   "outputs": [
    {
     "name": "stdout",
     "output_type": "stream",
     "text": [
      "9\n"
     ]
    },
    {
     "name": "stderr",
     "output_type": "stream",
     "text": [
      "/tmp/ipykernel_1786/586857916.py:2: SettingWithCopyWarning: \n",
      "A value is trying to be set on a copy of a slice from a DataFrame\n",
      "\n",
      "See the caveats in the documentation: https://pandas.pydata.org/pandas-docs/stable/user_guide/indexing.html#returning-a-view-versus-a-copy\n",
      "  pot_name[0]='9'\n"
     ]
    },
    {
     "data": {
      "text/plain": [
       "str"
      ]
     },
     "execution_count": 109,
     "metadata": {},
     "output_type": "execute_result"
    }
   ],
   "source": [
    "# Modify the elements in pot_name and get the type of it\n",
    "pot_name[0]='9'\n",
    "print(pot_name[0])\n",
    "type(pot_name[0])"
   ]
  },
  {
   "cell_type": "code",
   "execution_count": 110,
   "id": "9044218d-6456-4f73-adac-6cd02ff7e9e5",
   "metadata": {
    "scrolled": true
   },
   "outputs": [
    {
     "data": {
      "text/plain": [
       "FID               object\n",
       "Tract_N           object\n",
       "SPA               object\n",
       "Detailed_1        object\n",
       "CD                object\n",
       "Detailed_N        object\n",
       "SD                object\n",
       "Tract_1           object\n",
       "Year_1            object\n",
       "totUnshe_1        object\n",
       "totShelt_1        object\n",
       "totPeopl_1        object\n",
       "u_dens            object\n",
       "s_dens            object\n",
       "t_dens            object\n",
       "unincorpor        object\n",
       "SHAPE_Length      object\n",
       "SHAPE_Area        object\n",
       "geometry        geometry\n",
       "dtype: object"
      ]
     },
     "execution_count": 110,
     "metadata": {},
     "output_type": "execute_result"
    }
   ],
   "source": [
    "#find the data types of each columns\n",
    "pot.dtypes"
   ]
  },
  {
   "cell_type": "code",
   "execution_count": 111,
   "id": "465f2eb5-f147-4e6f-a727-30a8a994ffd2",
   "metadata": {
    "scrolled": true
   },
   "outputs": [
    {
     "data": {
      "text/plain": [
       "<bound method DataFrame.info of        FID Tract_N SPA            Detailed_1  CD            Detailed_N SD  \\\n",
       "0        1  101110   2    Sunland-Tujunga NC   9    Sunland-Tujunga NC  5   \n",
       "1        2  101122   2    Sunland-Tujunga NC   7    Sunland-Tujunga NC  5   \n",
       "2        3  101210   2    Sunland-Tujunga NC   7    Sunland-Tujunga NC  5   \n",
       "3        4  101220   2    Sunland-Tujunga NC   7    Sunland-Tujunga NC  5   \n",
       "4        5  101300   2    Sunland-Tujunga NC   7    Sunland-Tujunga NC  5   \n",
       "...    ...     ...  ..                   ...  ..                   ... ..   \n",
       "2158  2159  980025   8                Carson   0                Carson  2   \n",
       "2159  2160  980026   2    Sunland-Tujunga NC   7    Sunland-Tujunga NC  5   \n",
       "2160  2161  980028   5  Westchester/Playa NC  11  Westchester/Playa NC  4   \n",
       "2161  2162  980030   8            El Segundo   0            El Segundo  4   \n",
       "2162  2163  980031   8         Wilmington NC  15         Wilmington NC  4   \n",
       "\n",
       "     Tract_1 Year_1 totUnshe_1 totShelt_1 totPeopl_1     u_dens s_dens  \\\n",
       "0     101110   2019     12.614          0     12.614  28.600087      0   \n",
       "1     101122   2019          1          0          1   0.979639      0   \n",
       "2     101210   2019     14.517          0     14.517  57.787763      0   \n",
       "3     101220   2019     24.058          0     24.058  89.152876      0   \n",
       "4     101300   2019      9.278          0      9.278   9.313195      0   \n",
       "...      ...    ...        ...        ...        ...        ...    ...   \n",
       "2158  980025   2019     32.028          0     32.028  27.933158      0   \n",
       "2159  980026   2019          0          0          0          0      0   \n",
       "2160  980028   2019      130.4          0      130.4  19.459076      0   \n",
       "2161  980030   2019      4.961          0      4.961   3.001591      0   \n",
       "2162  980031   2019          5          0          5   2.108613      0   \n",
       "\n",
       "         t_dens unincorpor        SHAPE_Length            SHAPE_Area geometry  \n",
       "0     28.600087         No  0.0471721008519375   0.00011181334606242     None  \n",
       "1      0.979639         No  0.0962339347554264  0.000258823875630102     None  \n",
       "2     57.787763         No   0.037363089208827  6.36816537645965e-05     None  \n",
       "3     89.152876         No  0.0384971371240107  6.84091936349453e-05     None  \n",
       "4      9.313195         No  0.0858083267145437  0.000252660776264925     None  \n",
       "...         ...        ...                 ...                   ...      ...  \n",
       "2158  27.933158         No  0.0950651758119922  0.000288956452899211     None  \n",
       "2159          0         No   0.321858526563682   0.00137468142833197     None  \n",
       "2160  19.459076         No   0.253026542516653   0.00168383753086847     None  \n",
       "2161   3.001591         No  0.0924538189127169  0.000413710869346569     None  \n",
       "2162   2.108613         No   0.816691124964907    0.0013371533255194     None  \n",
       "\n",
       "[2163 rows x 19 columns]>"
      ]
     },
     "execution_count": 111,
     "metadata": {},
     "output_type": "execute_result"
    }
   ],
   "source": [
    "# find conscise summary of p\n",
    "pot.info"
   ]
  },
  {
   "cell_type": "code",
   "execution_count": 112,
   "id": "3da52513-2584-444c-b378-b537e31f688f",
   "metadata": {},
   "outputs": [
    {
     "data": {
      "text/plain": [
       "(2163, 19)"
      ]
     },
     "execution_count": 112,
     "metadata": {},
     "output_type": "execute_result"
    }
   ],
   "source": [
    "# how many rows and columns?\n",
    "pot.shape"
   ]
  },
  {
   "cell_type": "code",
   "execution_count": 113,
   "id": "60757042-8fd8-4b6a-bdd5-3e4dd2efa5a4",
   "metadata": {
    "scrolled": true
   },
   "outputs": [
    {
     "data": {
      "text/plain": [
       "['FID',\n",
       " 'Tract_N',\n",
       " 'SPA',\n",
       " 'Detailed_1',\n",
       " 'CD',\n",
       " 'Detailed_N',\n",
       " 'SD',\n",
       " 'Tract_1',\n",
       " 'Year_1',\n",
       " 'totUnshe_1',\n",
       " 'totShelt_1',\n",
       " 'totPeopl_1',\n",
       " 'u_dens',\n",
       " 's_dens',\n",
       " 't_dens',\n",
       " 'unincorpor',\n",
       " 'SHAPE_Length',\n",
       " 'SHAPE_Area',\n",
       " 'geometry']"
      ]
     },
     "execution_count": 113,
     "metadata": {},
     "output_type": "execute_result"
    }
   ],
   "source": [
    "# the columns in pot\n",
    "pot.columns.to_list()"
   ]
  },
  {
   "cell_type": "code",
   "execution_count": 131,
   "id": "63416cac-8b74-4b15-898d-8ee93fcbf5d0",
   "metadata": {},
   "outputs": [
    {
     "name": "stdout",
     "output_type": "stream",
     "text": [
      "712      9\n",
      "595     10\n",
      "1370     0\n",
      "140      6\n",
      "918     11\n",
      "Name: CD, dtype: object\n"
     ]
    },
    {
     "data": {
      "text/plain": [
       "584     10\n",
       "1319     0\n",
       "1054     0\n",
       "Name: CD, dtype: object"
      ]
     },
     "execution_count": 131,
     "metadata": {},
     "output_type": "execute_result"
    }
   ],
   "source": [
    "# now I want find a specific column\n",
    "print(pot['CD'].sample(5))\n",
    "#or\n",
    "pot.CD.sample(3)"
   ]
  },
  {
   "cell_type": "code",
   "execution_count": 116,
   "id": "a4a723a5-a211-4670-95ba-7f07530c6fc9",
   "metadata": {},
   "outputs": [
    {
     "data": {
      "text/plain": [
       "CD\n",
       "0     1159\n",
       "13      73\n",
       "11      72\n",
       "10      71\n",
       "14      70\n",
       "1       70\n",
       "4       69\n",
       "5       69\n",
       "2       68\n",
       "12      68\n",
       "6       66\n",
       "15      66\n",
       "7       64\n",
       "9       63\n",
       "3       60\n",
       "8       55\n",
       "Name: count, dtype: int64"
      ]
     },
     "execution_count": 116,
     "metadata": {},
     "output_type": "execute_result"
    }
   ],
   "source": [
    "# Count the different type of data of NAME from pot\n",
    "name_count=pot['CD'].value_counts() \n",
    "name_count"
   ]
  },
  {
   "cell_type": "code",
   "execution_count": 117,
   "id": "20f33540-cfc2-4358-b3cc-1652bd96981b",
   "metadata": {},
   "outputs": [
    {
     "data": {
      "text/plain": [
       "pandas.core.series.Series"
      ]
     },
     "execution_count": 117,
     "metadata": {},
     "output_type": "execute_result"
    }
   ],
   "source": [
    "# what data type is name_count ?\n",
    "type(name_count)"
   ]
  },
  {
   "cell_type": "code",
   "execution_count": 118,
   "id": "3b6a8325-0e23-407a-8538-cd59c21f8247",
   "metadata": {},
   "outputs": [
    {
     "data": {
      "text/html": [
       "<div>\n",
       "<style scoped>\n",
       "    .dataframe tbody tr th:only-of-type {\n",
       "        vertical-align: middle;\n",
       "    }\n",
       "\n",
       "    .dataframe tbody tr th {\n",
       "        vertical-align: top;\n",
       "    }\n",
       "\n",
       "    .dataframe thead th {\n",
       "        text-align: right;\n",
       "    }\n",
       "</style>\n",
       "<table border=\"1\" class=\"dataframe\">\n",
       "  <thead>\n",
       "    <tr style=\"text-align: right;\">\n",
       "      <th></th>\n",
       "      <th>CD</th>\n",
       "      <th>count</th>\n",
       "    </tr>\n",
       "  </thead>\n",
       "  <tbody>\n",
       "    <tr>\n",
       "      <th>0</th>\n",
       "      <td>0</td>\n",
       "      <td>1159</td>\n",
       "    </tr>\n",
       "    <tr>\n",
       "      <th>1</th>\n",
       "      <td>13</td>\n",
       "      <td>73</td>\n",
       "    </tr>\n",
       "    <tr>\n",
       "      <th>2</th>\n",
       "      <td>11</td>\n",
       "      <td>72</td>\n",
       "    </tr>\n",
       "    <tr>\n",
       "      <th>3</th>\n",
       "      <td>10</td>\n",
       "      <td>71</td>\n",
       "    </tr>\n",
       "    <tr>\n",
       "      <th>4</th>\n",
       "      <td>14</td>\n",
       "      <td>70</td>\n",
       "    </tr>\n",
       "    <tr>\n",
       "      <th>5</th>\n",
       "      <td>1</td>\n",
       "      <td>70</td>\n",
       "    </tr>\n",
       "    <tr>\n",
       "      <th>6</th>\n",
       "      <td>4</td>\n",
       "      <td>69</td>\n",
       "    </tr>\n",
       "    <tr>\n",
       "      <th>7</th>\n",
       "      <td>5</td>\n",
       "      <td>69</td>\n",
       "    </tr>\n",
       "    <tr>\n",
       "      <th>8</th>\n",
       "      <td>2</td>\n",
       "      <td>68</td>\n",
       "    </tr>\n",
       "    <tr>\n",
       "      <th>9</th>\n",
       "      <td>12</td>\n",
       "      <td>68</td>\n",
       "    </tr>\n",
       "    <tr>\n",
       "      <th>10</th>\n",
       "      <td>6</td>\n",
       "      <td>66</td>\n",
       "    </tr>\n",
       "    <tr>\n",
       "      <th>11</th>\n",
       "      <td>15</td>\n",
       "      <td>66</td>\n",
       "    </tr>\n",
       "    <tr>\n",
       "      <th>12</th>\n",
       "      <td>7</td>\n",
       "      <td>64</td>\n",
       "    </tr>\n",
       "    <tr>\n",
       "      <th>13</th>\n",
       "      <td>9</td>\n",
       "      <td>63</td>\n",
       "    </tr>\n",
       "    <tr>\n",
       "      <th>14</th>\n",
       "      <td>3</td>\n",
       "      <td>60</td>\n",
       "    </tr>\n",
       "    <tr>\n",
       "      <th>15</th>\n",
       "      <td>8</td>\n",
       "      <td>55</td>\n",
       "    </tr>\n",
       "  </tbody>\n",
       "</table>\n",
       "</div>"
      ],
      "text/plain": [
       "    CD  count\n",
       "0    0   1159\n",
       "1   13     73\n",
       "2   11     72\n",
       "3   10     71\n",
       "4   14     70\n",
       "5    1     70\n",
       "6    4     69\n",
       "7    5     69\n",
       "8    2     68\n",
       "9   12     68\n",
       "10   6     66\n",
       "11  15     66\n",
       "12   7     64\n",
       "13   9     63\n",
       "14   3     60\n",
       "15   8     55"
      ]
     },
     "execution_count": 118,
     "metadata": {},
     "output_type": "execute_result"
    }
   ],
   "source": [
    "# convert the series into a dataframe\n",
    "name_count = name_count.reset_index()\n",
    "name_count"
   ]
  },
  {
   "cell_type": "code",
   "execution_count": 119,
   "id": "1afd4831-bca3-40ed-adf5-dbf81edcda11",
   "metadata": {},
   "outputs": [
    {
     "data": {
      "text/plain": [
       "pandas.core.frame.DataFrame"
      ]
     },
     "execution_count": 119,
     "metadata": {},
     "output_type": "execute_result"
    }
   ],
   "source": [
    "# find the new type of name_count\n",
    "type(name_count)"
   ]
  },
  {
   "cell_type": "code",
   "execution_count": 120,
   "id": "ac5ba6ed-37e0-4947-a98d-d3a6bd33210e",
   "metadata": {},
   "outputs": [
    {
     "data": {
      "text/plain": [
       "['CD', 'count']"
      ]
     },
     "execution_count": 120,
     "metadata": {},
     "output_type": "execute_result"
    }
   ],
   "source": [
    "# current columns as a list\n",
    "name_count.columns.to_list()"
   ]
  },
  {
   "cell_type": "code",
   "execution_count": 121,
   "id": "4ab70d28-9add-4671-8eb0-0fb431d838a2",
   "metadata": {},
   "outputs": [
    {
     "data": {
      "text/html": [
       "<div>\n",
       "<style scoped>\n",
       "    .dataframe tbody tr th:only-of-type {\n",
       "        vertical-align: middle;\n",
       "    }\n",
       "\n",
       "    .dataframe tbody tr th {\n",
       "        vertical-align: top;\n",
       "    }\n",
       "\n",
       "    .dataframe thead th {\n",
       "        text-align: right;\n",
       "    }\n",
       "</style>\n",
       "<table border=\"1\" class=\"dataframe\">\n",
       "  <thead>\n",
       "    <tr style=\"text-align: right;\">\n",
       "      <th></th>\n",
       "      <th>name</th>\n",
       "      <th>COUNT</th>\n",
       "    </tr>\n",
       "  </thead>\n",
       "  <tbody>\n",
       "    <tr>\n",
       "      <th>0</th>\n",
       "      <td>0</td>\n",
       "      <td>1159</td>\n",
       "    </tr>\n",
       "    <tr>\n",
       "      <th>1</th>\n",
       "      <td>13</td>\n",
       "      <td>73</td>\n",
       "    </tr>\n",
       "    <tr>\n",
       "      <th>2</th>\n",
       "      <td>11</td>\n",
       "      <td>72</td>\n",
       "    </tr>\n",
       "    <tr>\n",
       "      <th>3</th>\n",
       "      <td>10</td>\n",
       "      <td>71</td>\n",
       "    </tr>\n",
       "    <tr>\n",
       "      <th>4</th>\n",
       "      <td>14</td>\n",
       "      <td>70</td>\n",
       "    </tr>\n",
       "    <tr>\n",
       "      <th>5</th>\n",
       "      <td>1</td>\n",
       "      <td>70</td>\n",
       "    </tr>\n",
       "    <tr>\n",
       "      <th>6</th>\n",
       "      <td>4</td>\n",
       "      <td>69</td>\n",
       "    </tr>\n",
       "    <tr>\n",
       "      <th>7</th>\n",
       "      <td>5</td>\n",
       "      <td>69</td>\n",
       "    </tr>\n",
       "    <tr>\n",
       "      <th>8</th>\n",
       "      <td>2</td>\n",
       "      <td>68</td>\n",
       "    </tr>\n",
       "    <tr>\n",
       "      <th>9</th>\n",
       "      <td>12</td>\n",
       "      <td>68</td>\n",
       "    </tr>\n",
       "    <tr>\n",
       "      <th>10</th>\n",
       "      <td>6</td>\n",
       "      <td>66</td>\n",
       "    </tr>\n",
       "    <tr>\n",
       "      <th>11</th>\n",
       "      <td>15</td>\n",
       "      <td>66</td>\n",
       "    </tr>\n",
       "    <tr>\n",
       "      <th>12</th>\n",
       "      <td>7</td>\n",
       "      <td>64</td>\n",
       "    </tr>\n",
       "    <tr>\n",
       "      <th>13</th>\n",
       "      <td>9</td>\n",
       "      <td>63</td>\n",
       "    </tr>\n",
       "    <tr>\n",
       "      <th>14</th>\n",
       "      <td>3</td>\n",
       "      <td>60</td>\n",
       "    </tr>\n",
       "    <tr>\n",
       "      <th>15</th>\n",
       "      <td>8</td>\n",
       "      <td>55</td>\n",
       "    </tr>\n",
       "  </tbody>\n",
       "</table>\n",
       "</div>"
      ],
      "text/plain": [
       "   name  COUNT\n",
       "0     0   1159\n",
       "1    13     73\n",
       "2    11     72\n",
       "3    10     71\n",
       "4    14     70\n",
       "5     1     70\n",
       "6     4     69\n",
       "7     5     69\n",
       "8     2     68\n",
       "9    12     68\n",
       "10    6     66\n",
       "11   15     66\n",
       "12    7     64\n",
       "13    9     63\n",
       "14    3     60\n",
       "15    8     55"
      ]
     },
     "execution_count": 121,
     "metadata": {},
     "output_type": "execute_result"
    }
   ],
   "source": [
    "name_count.columns=['name','COUNT']\n",
    "name_count"
   ]
  },
  {
   "cell_type": "code",
   "execution_count": 122,
   "id": "adee50ed-75d3-457c-9107-a0c8830d7f94",
   "metadata": {},
   "outputs": [
    {
     "data": {
      "text/plain": [
       "<Axes: >"
      ]
     },
     "execution_count": 122,
     "metadata": {},
     "output_type": "execute_result"
    },
    {
     "data": {
      "image/png": "[encoded data removed]",
      "text/plain": [
       "<Figure size 640x480 with 1 Axes>"
      ]
     },
     "metadata": {},
     "output_type": "display_data"
    }
   ],
   "source": [
    "name_count.plot()"
   ]
  },
  {
   "cell_type": "code",
   "execution_count": 139,
   "id": "84b32ec5-b0fc-48c6-8bfb-574f54731d02",
   "metadata": {},
   "outputs": [
    {
     "name": "stdout",
     "output_type": "stream",
     "text": [
      "0       No\n",
      "1       No\n",
      "2       No\n",
      "3       No\n",
      "4       No\n",
      "        ..\n",
      "2158    No\n",
      "2159    No\n",
      "2160    No\n",
      "2161    No\n",
      "2162    No\n",
      "Name: unincorpor, Length: 2163, dtype: object\n"
     ]
    }
   ],
   "source": [
    "u_count.columns=['type','COUNT']\n",
    "print(u_count.columns)"
   ]
  },
  {
   "cell_type": "code",
   "execution_count": 153,
   "id": "f0042a85-20be-4cbc-b978-2398515a3961",
   "metadata": {},
   "outputs": [
    {
     "data": {
      "text/html": [
       "<div>\n",
       "<style scoped>\n",
       "    .dataframe tbody tr th:only-of-type {\n",
       "        vertical-align: middle;\n",
       "    }\n",
       "\n",
       "    .dataframe tbody tr th {\n",
       "        vertical-align: top;\n",
       "    }\n",
       "\n",
       "    .dataframe thead th {\n",
       "        text-align: right;\n",
       "    }\n",
       "</style>\n",
       "<table border=\"1\" class=\"dataframe\">\n",
       "  <thead>\n",
       "    <tr style=\"text-align: right;\">\n",
       "      <th></th>\n",
       "      <th>unincorpor</th>\n",
       "      <th>count</th>\n",
       "    </tr>\n",
       "  </thead>\n",
       "  <tbody>\n",
       "    <tr>\n",
       "      <th>0</th>\n",
       "      <td>No</td>\n",
       "      <td>1805</td>\n",
       "    </tr>\n",
       "    <tr>\n",
       "      <th>1</th>\n",
       "      <td>Yes</td>\n",
       "      <td>355</td>\n",
       "    </tr>\n",
       "    <tr>\n",
       "      <th>2</th>\n",
       "      <td></td>\n",
       "      <td>3</td>\n",
       "    </tr>\n",
       "  </tbody>\n",
       "</table>\n",
       "</div>"
      ],
      "text/plain": [
       "  unincorpor  count\n",
       "0         No   1805\n",
       "1        Yes    355\n",
       "2                 3"
      ]
     },
     "execution_count": 153,
     "metadata": {},
     "output_type": "execute_result"
    }
   ],
   "source": [
    "# let's convert the series into a dataframe\n",
    "u_count = u_count.reset_index()\n",
    "u_count"
   ]
  },
  {
   "cell_type": "code",
   "execution_count": 140,
   "id": "8d086d85-63a8-47e9-b27e-5ef142849399",
   "metadata": {},
   "outputs": [
    {
     "name": "stdout",
     "output_type": "stream",
     "text": [
      "['type', 'COUNT']\n"
     ]
    }
   ],
   "source": [
    "u_count.columns=['type','COUNT']\n",
    "print(u_count.columns)"
   ]
  },
  {
   "cell_type": "code",
   "execution_count": 141,
   "id": "525b7dfd-cd2d-4da1-9ae8-10428ace94eb",
   "metadata": {},
   "outputs": [
    {
     "data": {
      "text/plain": [
       "pandas.core.series.Series"
      ]
     },
     "execution_count": 141,
     "metadata": {},
     "output_type": "execute_result"
    }
   ],
   "source": [
    "# what data type is u_count?\n",
    "type(u_count)"
   ]
  },
  {
   "cell_type": "code",
   "execution_count": 154,
   "id": "40481fe6-4737-4676-98a2-7774c609f0ef",
   "metadata": {},
   "outputs": [
    {
     "data": {
      "text/plain": [
       "unincorpor\n",
       "No     1805\n",
       "Yes     355\n",
       "          3\n",
       "Name: count, dtype: int64"
      ]
     },
     "execution_count": 154,
     "metadata": {},
     "output_type": "execute_result"
    }
   ],
   "source": [
    "# save it as a variable\n",
    "u_count = pot['unincorpor'].value_counts()\n",
    "u_count"
   ]
  },
  {
   "cell_type": "code",
   "execution_count": 155,
   "id": "a0601c81-2782-4021-a2a7-8a365fe4d43c",
   "metadata": {},
   "outputs": [
    {
     "data": {
      "text/plain": [
       "<Axes: xlabel='unincorpor'>"
      ]
     },
     "execution_count": 155,
     "metadata": {},
     "output_type": "execute_result"
    },
    {
     "data": {
      "image/png": "[encoded data removed]",
      "text/plain": [
       "<Figure size 640x480 with 1 Axes>"
      ]
     },
     "metadata": {},
     "output_type": "display_data"
    }
   ],
   "source": [
    "u_count.plot()"
   ]
  },
  {
   "cell_type": "code",
   "execution_count": 156,
   "id": "bbf42baa-8fd6-485a-8dd1-2544a7e48f39",
   "metadata": {},
   "outputs": [
    {
     "data": {
      "text/plain": [
       "<Axes: title={'center': 'Number of stops per metro line'}, xlabel='unincorpor'>"
      ]
     },
     "execution_count": 156,
     "metadata": {},
     "output_type": "execute_result"
    },
    {
     "data": {
      "image/png": "[encoded data removed]",
      "text/plain": [
       "<Figure size 640x480 with 1 Axes>"
      ]
     },
     "metadata": {},
     "output_type": "display_data"
    }
   ],
   "source": [
    "# give it additional arguments\n",
    "u_count.plot.bar(x = 'index', y = 'unincorpor', title = 'Number of stops per metro line')"
   ]
  },
  {
   "cell_type": "code",
   "execution_count": 157,
   "id": "6b4851aa-6878-48af-90d6-cb43dad6c8e9",
   "metadata": {},
   "outputs": [
    {
     "name": "stdout",
     "output_type": "stream",
     "text": [
      "<class 'geopandas.geodataframe.GeoDataFrame'>\n",
      "RangeIndex: 2163 entries, 0 to 2162\n",
      "Data columns (total 19 columns):\n",
      " #   Column        Non-Null Count  Dtype   \n",
      "---  ------        --------------  -----   \n",
      " 0   FID           2163 non-null   object  \n",
      " 1   Tract_N       2163 non-null   object  \n",
      " 2   SPA           2163 non-null   object  \n",
      " 3   Detailed_1    2163 non-null   object  \n",
      " 4   CD            2163 non-null   object  \n",
      " 5   Detailed_N    2163 non-null   object  \n",
      " 6   SD            2163 non-null   object  \n",
      " 7   Tract_1       2163 non-null   object  \n",
      " 8   Year_1        2163 non-null   object  \n",
      " 9   totUnshe_1    2163 non-null   object  \n",
      " 10  totShelt_1    2163 non-null   object  \n",
      " 11  totPeopl_1    2163 non-null   object  \n",
      " 12  u_dens        2163 non-null   object  \n",
      " 13  s_dens        2163 non-null   object  \n",
      " 14  t_dens        2163 non-null   object  \n",
      " 15  unincorpor    2163 non-null   object  \n",
      " 16  SHAPE_Length  2163 non-null   object  \n",
      " 17  SHAPE_Area    2163 non-null   object  \n",
      " 18  geometry      0 non-null      geometry\n",
      "dtypes: geometry(1), object(18)\n",
      "memory usage: 321.2+ KB\n"
     ]
    }
   ],
   "source": [
    "#trim the data\n",
    "# output the original data's info\n",
    "pot.info()"
   ]
  },
  {
   "cell_type": "code",
   "execution_count": 184,
   "id": "65c62905-432e-4570-afa8-0012f085fb1a",
   "metadata": {},
   "outputs": [
    {
     "data": {
      "text/html": [
       "<div>\n",
       "<style scoped>\n",
       "    .dataframe tbody tr th:only-of-type {\n",
       "        vertical-align: middle;\n",
       "    }\n",
       "\n",
       "    .dataframe tbody tr th {\n",
       "        vertical-align: top;\n",
       "    }\n",
       "\n",
       "    .dataframe thead th {\n",
       "        text-align: right;\n",
       "    }\n",
       "</style>\n",
       "<table border=\"1\" class=\"dataframe\">\n",
       "  <thead>\n",
       "    <tr style=\"text-align: right;\">\n",
       "      <th></th>\n",
       "      <th>SD</th>\n",
       "      <th>CD</th>\n",
       "      <th>Year_1</th>\n",
       "      <th>Tract_1</th>\n",
       "      <th>unincorpor</th>\n",
       "    </tr>\n",
       "  </thead>\n",
       "  <tbody>\n",
       "    <tr>\n",
       "      <th>0</th>\n",
       "      <td>5</td>\n",
       "      <td>9</td>\n",
       "      <td>2019</td>\n",
       "      <td>101110</td>\n",
       "      <td>No</td>\n",
       "    </tr>\n",
       "    <tr>\n",
       "      <th>1</th>\n",
       "      <td>5</td>\n",
       "      <td>7</td>\n",
       "      <td>2019</td>\n",
       "      <td>101122</td>\n",
       "      <td>No</td>\n",
       "    </tr>\n",
       "    <tr>\n",
       "      <th>2</th>\n",
       "      <td>5</td>\n",
       "      <td>7</td>\n",
       "      <td>2019</td>\n",
       "      <td>101210</td>\n",
       "      <td>No</td>\n",
       "    </tr>\n",
       "    <tr>\n",
       "      <th>3</th>\n",
       "      <td>5</td>\n",
       "      <td>7</td>\n",
       "      <td>2019</td>\n",
       "      <td>101220</td>\n",
       "      <td>No</td>\n",
       "    </tr>\n",
       "    <tr>\n",
       "      <th>4</th>\n",
       "      <td>5</td>\n",
       "      <td>7</td>\n",
       "      <td>2019</td>\n",
       "      <td>101300</td>\n",
       "      <td>No</td>\n",
       "    </tr>\n",
       "    <tr>\n",
       "      <th>...</th>\n",
       "      <td>...</td>\n",
       "      <td>...</td>\n",
       "      <td>...</td>\n",
       "      <td>...</td>\n",
       "      <td>...</td>\n",
       "    </tr>\n",
       "    <tr>\n",
       "      <th>2158</th>\n",
       "      <td>2</td>\n",
       "      <td>0</td>\n",
       "      <td>2019</td>\n",
       "      <td>980025</td>\n",
       "      <td>No</td>\n",
       "    </tr>\n",
       "    <tr>\n",
       "      <th>2159</th>\n",
       "      <td>5</td>\n",
       "      <td>7</td>\n",
       "      <td>2019</td>\n",
       "      <td>980026</td>\n",
       "      <td>No</td>\n",
       "    </tr>\n",
       "    <tr>\n",
       "      <th>2160</th>\n",
       "      <td>4</td>\n",
       "      <td>11</td>\n",
       "      <td>2019</td>\n",
       "      <td>980028</td>\n",
       "      <td>No</td>\n",
       "    </tr>\n",
       "    <tr>\n",
       "      <th>2161</th>\n",
       "      <td>4</td>\n",
       "      <td>0</td>\n",
       "      <td>2019</td>\n",
       "      <td>980030</td>\n",
       "      <td>No</td>\n",
       "    </tr>\n",
       "    <tr>\n",
       "      <th>2162</th>\n",
       "      <td>4</td>\n",
       "      <td>15</td>\n",
       "      <td>2019</td>\n",
       "      <td>980031</td>\n",
       "      <td>No</td>\n",
       "    </tr>\n",
       "  </tbody>\n",
       "</table>\n",
       "<p>2163 rows × 5 columns</p>\n",
       "</div>"
      ],
      "text/plain": [
       "     SD  CD Year_1 Tract_1 unincorpor\n",
       "0     5   9   2019  101110         No\n",
       "1     5   7   2019  101122         No\n",
       "2     5   7   2019  101210         No\n",
       "3     5   7   2019  101220         No\n",
       "4     5   7   2019  101300         No\n",
       "...  ..  ..    ...     ...        ...\n",
       "2158  2   0   2019  980025         No\n",
       "2159  5   7   2019  980026         No\n",
       "2160  4  11   2019  980028         No\n",
       "2161  4   0   2019  980030         No\n",
       "2162  4  15   2019  980031         No\n",
       "\n",
       "[2163 rows x 5 columns]"
      ]
     },
     "execution_count": 184,
     "metadata": {},
     "output_type": "execute_result"
    }
   ],
   "source": [
    "# show some choosed columns\n",
    "pot[['SD','CD','Year_1','Tract_1','unincorpor']]"
   ]
  },
  {
   "cell_type": "code",
   "execution_count": 196,
   "id": "f2ceee0d-ab6c-4d44-bdaa-6c92368664e1",
   "metadata": {},
   "outputs": [
    {
     "name": "stdout",
     "output_type": "stream",
     "text": [
      "     SD  CD Year_1 Tract_1 unincorpor\n",
      "0     5   9   2019  101110         No\n",
      "1     5   7   2019  101122         No\n",
      "2     5   7   2019  101210         No\n",
      "3     5   7   2019  101220         No\n",
      "4     5   7   2019  101300         No\n",
      "...  ..  ..    ...     ...        ...\n",
      "2158  2   0   2019  980025         No\n",
      "2159  5   7   2019  980026         No\n",
      "2160  4  11   2019  980028         No\n",
      "2161  4   0   2019  980030         No\n",
      "2162  4  15   2019  980031         No\n",
      "\n",
      "[2163 rows x 5 columns]\n",
      "     SD CD Year_1 Tract_1\n",
      "8     5  2   2019  102105\n",
      "398   3  4   2019  189101\n",
      "1086  1  0   2019  403312\n"
     ]
    },
    {
     "data": {
      "text/html": [
       "<div>\n",
       "<style scoped>\n",
       "    .dataframe tbody tr th:only-of-type {\n",
       "        vertical-align: middle;\n",
       "    }\n",
       "\n",
       "    .dataframe tbody tr th {\n",
       "        vertical-align: top;\n",
       "    }\n",
       "\n",
       "    .dataframe thead th {\n",
       "        text-align: right;\n",
       "    }\n",
       "</style>\n",
       "<table border=\"1\" class=\"dataframe\">\n",
       "  <thead>\n",
       "    <tr style=\"text-align: right;\">\n",
       "      <th></th>\n",
       "      <th>SD</th>\n",
       "      <th>CD</th>\n",
       "      <th>Year_1</th>\n",
       "      <th>Tract_1</th>\n",
       "      <th>unincorpor</th>\n",
       "    </tr>\n",
       "  </thead>\n",
       "  <tbody>\n",
       "    <tr>\n",
       "      <th>1410</th>\n",
       "      <td>4</td>\n",
       "      <td>0</td>\n",
       "      <td>2019</td>\n",
       "      <td>502100</td>\n",
       "      <td>Yes</td>\n",
       "    </tr>\n",
       "    <tr>\n",
       "      <th>182</th>\n",
       "      <td>3</td>\n",
       "      <td>2</td>\n",
       "      <td>2019</td>\n",
       "      <td>123510</td>\n",
       "      <td>No</td>\n",
       "    </tr>\n",
       "  </tbody>\n",
       "</table>\n",
       "</div>"
      ],
      "text/plain": [
       "     SD CD Year_1 Tract_1 unincorpor\n",
       "1410  4  0   2019  502100        Yes\n",
       "182   3  2   2019  123510         No"
      ]
     },
     "execution_count": 196,
     "metadata": {},
     "output_type": "execute_result"
    }
   ],
   "source": [
    "# list of choosed column names\n",
    "choosed_columns = pot[['SD','CD','Year_1','Tract_1','unincorpor']]\n",
    "print(choosed_columns)\n",
    "# subset based on desired columns\n",
    "print(pot[['SD','CD','Year_1','Tract_1']].sample(3))\n",
    "choosed_columns.sample(2)"
   ]
  },
  {
   "cell_type": "code",
   "execution_count": 186,
   "id": "3055a13a-449a-439d-9f0a-0ec20b0bb0bb",
   "metadata": {},
   "outputs": [
    {
     "data": {
      "text/html": [
       "<div>\n",
       "<style scoped>\n",
       "    .dataframe tbody tr th:only-of-type {\n",
       "        vertical-align: middle;\n",
       "    }\n",
       "\n",
       "    .dataframe tbody tr th {\n",
       "        vertical-align: top;\n",
       "    }\n",
       "\n",
       "    .dataframe thead th {\n",
       "        text-align: right;\n",
       "    }\n",
       "</style>\n",
       "<table border=\"1\" class=\"dataframe\">\n",
       "  <thead>\n",
       "    <tr style=\"text-align: right;\">\n",
       "      <th></th>\n",
       "      <th>SD</th>\n",
       "      <th>CD</th>\n",
       "      <th>Year_1</th>\n",
       "      <th>Tract_1</th>\n",
       "      <th>unincorpor</th>\n",
       "    </tr>\n",
       "  </thead>\n",
       "  <tbody>\n",
       "    <tr>\n",
       "      <th>0</th>\n",
       "      <td>5</td>\n",
       "      <td>9</td>\n",
       "      <td>2019</td>\n",
       "      <td>101110</td>\n",
       "      <td>No</td>\n",
       "    </tr>\n",
       "    <tr>\n",
       "      <th>1</th>\n",
       "      <td>5</td>\n",
       "      <td>7</td>\n",
       "      <td>2019</td>\n",
       "      <td>101122</td>\n",
       "      <td>No</td>\n",
       "    </tr>\n",
       "    <tr>\n",
       "      <th>2</th>\n",
       "      <td>5</td>\n",
       "      <td>7</td>\n",
       "      <td>2019</td>\n",
       "      <td>101210</td>\n",
       "      <td>No</td>\n",
       "    </tr>\n",
       "    <tr>\n",
       "      <th>3</th>\n",
       "      <td>5</td>\n",
       "      <td>7</td>\n",
       "      <td>2019</td>\n",
       "      <td>101220</td>\n",
       "      <td>No</td>\n",
       "    </tr>\n",
       "    <tr>\n",
       "      <th>4</th>\n",
       "      <td>5</td>\n",
       "      <td>7</td>\n",
       "      <td>2019</td>\n",
       "      <td>101300</td>\n",
       "      <td>No</td>\n",
       "    </tr>\n",
       "  </tbody>\n",
       "</table>\n",
       "</div>"
      ],
      "text/plain": [
       "  SD CD Year_1 Tract_1 unincorpor\n",
       "0  5  9   2019  101110         No\n",
       "1  5  7   2019  101122         No\n",
       "2  5  7   2019  101210         No\n",
       "3  5  7   2019  101220         No\n",
       "4  5  7   2019  101300         No"
      ]
     },
     "execution_count": 186,
     "metadata": {},
     "output_type": "execute_result"
    }
   ],
   "source": [
    "#show the top 5 rows\n",
    "choosed_columns.head()"
   ]
  },
  {
   "cell_type": "code",
   "execution_count": 187,
   "id": "1934da3f-4697-4dcf-b4a2-781d3391f2e8",
   "metadata": {},
   "outputs": [
    {
     "data": {
      "text/html": [
       "<div>\n",
       "<style scoped>\n",
       "    .dataframe tbody tr th:only-of-type {\n",
       "        vertical-align: middle;\n",
       "    }\n",
       "\n",
       "    .dataframe tbody tr th {\n",
       "        vertical-align: top;\n",
       "    }\n",
       "\n",
       "    .dataframe thead th {\n",
       "        text-align: right;\n",
       "    }\n",
       "</style>\n",
       "<table border=\"1\" class=\"dataframe\">\n",
       "  <thead>\n",
       "    <tr style=\"text-align: right;\">\n",
       "      <th></th>\n",
       "      <th>SD</th>\n",
       "      <th>CD</th>\n",
       "      <th>Year_1</th>\n",
       "      <th>Tract_1</th>\n",
       "      <th>unincorpor</th>\n",
       "    </tr>\n",
       "  </thead>\n",
       "  <tbody>\n",
       "    <tr>\n",
       "      <th>2160</th>\n",
       "      <td>4</td>\n",
       "      <td>11</td>\n",
       "      <td>2019</td>\n",
       "      <td>980028</td>\n",
       "      <td>No</td>\n",
       "    </tr>\n",
       "    <tr>\n",
       "      <th>2161</th>\n",
       "      <td>4</td>\n",
       "      <td>0</td>\n",
       "      <td>2019</td>\n",
       "      <td>980030</td>\n",
       "      <td>No</td>\n",
       "    </tr>\n",
       "    <tr>\n",
       "      <th>2162</th>\n",
       "      <td>4</td>\n",
       "      <td>15</td>\n",
       "      <td>2019</td>\n",
       "      <td>980031</td>\n",
       "      <td>No</td>\n",
       "    </tr>\n",
       "  </tbody>\n",
       "</table>\n",
       "</div>"
      ],
      "text/plain": [
       "     SD  CD Year_1 Tract_1 unincorpor\n",
       "2160  4  11   2019  980028         No\n",
       "2161  4   0   2019  980030         No\n",
       "2162  4  15   2019  980031         No"
      ]
     },
     "execution_count": 187,
     "metadata": {},
     "output_type": "execute_result"
    }
   ],
   "source": [
    "# show the last 3 rows of choosed_column\n",
    "choosed_columns.tail(3)"
   ]
  },
  {
   "cell_type": "code",
   "execution_count": 188,
   "id": "768a5c01-9705-456e-88ee-8c4dc6bd1986",
   "metadata": {},
   "outputs": [
    {
     "data": {
      "text/html": [
       "<div>\n",
       "<style scoped>\n",
       "    .dataframe tbody tr th:only-of-type {\n",
       "        vertical-align: middle;\n",
       "    }\n",
       "\n",
       "    .dataframe tbody tr th {\n",
       "        vertical-align: top;\n",
       "    }\n",
       "\n",
       "    .dataframe thead th {\n",
       "        text-align: right;\n",
       "    }\n",
       "</style>\n",
       "<table border=\"1\" class=\"dataframe\">\n",
       "  <thead>\n",
       "    <tr style=\"text-align: right;\">\n",
       "      <th></th>\n",
       "      <th>SD</th>\n",
       "      <th>CD</th>\n",
       "      <th>Year_1</th>\n",
       "      <th>Tract_1</th>\n",
       "      <th>unincorpor</th>\n",
       "    </tr>\n",
       "  </thead>\n",
       "  <tbody>\n",
       "    <tr>\n",
       "      <th>0</th>\n",
       "      <td>5</td>\n",
       "      <td>9</td>\n",
       "      <td>2019</td>\n",
       "      <td>101110</td>\n",
       "      <td>No</td>\n",
       "    </tr>\n",
       "    <tr>\n",
       "      <th>1</th>\n",
       "      <td>5</td>\n",
       "      <td>7</td>\n",
       "      <td>2019</td>\n",
       "      <td>101122</td>\n",
       "      <td>No</td>\n",
       "    </tr>\n",
       "    <tr>\n",
       "      <th>2</th>\n",
       "      <td>5</td>\n",
       "      <td>7</td>\n",
       "      <td>2019</td>\n",
       "      <td>101210</td>\n",
       "      <td>No</td>\n",
       "    </tr>\n",
       "    <tr>\n",
       "      <th>3</th>\n",
       "      <td>5</td>\n",
       "      <td>7</td>\n",
       "      <td>2019</td>\n",
       "      <td>101220</td>\n",
       "      <td>No</td>\n",
       "    </tr>\n",
       "    <tr>\n",
       "      <th>4</th>\n",
       "      <td>5</td>\n",
       "      <td>7</td>\n",
       "      <td>2019</td>\n",
       "      <td>101300</td>\n",
       "      <td>No</td>\n",
       "    </tr>\n",
       "    <tr>\n",
       "      <th>...</th>\n",
       "      <td>...</td>\n",
       "      <td>...</td>\n",
       "      <td>...</td>\n",
       "      <td>...</td>\n",
       "      <td>...</td>\n",
       "    </tr>\n",
       "    <tr>\n",
       "      <th>2158</th>\n",
       "      <td>2</td>\n",
       "      <td>0</td>\n",
       "      <td>2019</td>\n",
       "      <td>980025</td>\n",
       "      <td>No</td>\n",
       "    </tr>\n",
       "    <tr>\n",
       "      <th>2159</th>\n",
       "      <td>5</td>\n",
       "      <td>7</td>\n",
       "      <td>2019</td>\n",
       "      <td>980026</td>\n",
       "      <td>No</td>\n",
       "    </tr>\n",
       "    <tr>\n",
       "      <th>2160</th>\n",
       "      <td>4</td>\n",
       "      <td>11</td>\n",
       "      <td>2019</td>\n",
       "      <td>980028</td>\n",
       "      <td>No</td>\n",
       "    </tr>\n",
       "    <tr>\n",
       "      <th>2161</th>\n",
       "      <td>4</td>\n",
       "      <td>0</td>\n",
       "      <td>2019</td>\n",
       "      <td>980030</td>\n",
       "      <td>No</td>\n",
       "    </tr>\n",
       "    <tr>\n",
       "      <th>2162</th>\n",
       "      <td>4</td>\n",
       "      <td>15</td>\n",
       "      <td>2019</td>\n",
       "      <td>980031</td>\n",
       "      <td>No</td>\n",
       "    </tr>\n",
       "  </tbody>\n",
       "</table>\n",
       "<p>2163 rows × 5 columns</p>\n",
       "</div>"
      ],
      "text/plain": [
       "     SD  CD Year_1 Tract_1 unincorpor\n",
       "0     5   9   2019  101110         No\n",
       "1     5   7   2019  101122         No\n",
       "2     5   7   2019  101210         No\n",
       "3     5   7   2019  101220         No\n",
       "4     5   7   2019  101300         No\n",
       "...  ..  ..    ...     ...        ...\n",
       "2158  2   0   2019  980025         No\n",
       "2159  5   7   2019  980026         No\n",
       "2160  4  11   2019  980028         No\n",
       "2161  4   0   2019  980030         No\n",
       "2162  4  15   2019  980031         No\n",
       "\n",
       "[2163 rows x 5 columns]"
      ]
     },
     "execution_count": 188,
     "metadata": {},
     "output_type": "execute_result"
    }
   ],
   "source": [
    "# use the copy of choosed_columns, and get it to pot_trimmed data\n",
    "pot_trimmed = choosed_columns.copy()\n",
    "pot_trimmed"
   ]
  },
  {
   "cell_type": "code",
   "execution_count": 190,
   "id": "4835275c-6657-4226-bd0c-fcd2ae10ff04",
   "metadata": {},
   "outputs": [
    {
     "data": {
      "text/html": [
       "<div>\n",
       "<style scoped>\n",
       "    .dataframe tbody tr th:only-of-type {\n",
       "        vertical-align: middle;\n",
       "    }\n",
       "\n",
       "    .dataframe tbody tr th {\n",
       "        vertical-align: top;\n",
       "    }\n",
       "\n",
       "    .dataframe thead th {\n",
       "        text-align: right;\n",
       "    }\n",
       "</style>\n",
       "<table border=\"1\" class=\"dataframe\">\n",
       "  <thead>\n",
       "    <tr style=\"text-align: right;\">\n",
       "      <th></th>\n",
       "      <th>SD</th>\n",
       "      <th>CD</th>\n",
       "      <th>Year_1</th>\n",
       "      <th>Tract_1</th>\n",
       "      <th>unincorpor</th>\n",
       "    </tr>\n",
       "  </thead>\n",
       "  <tbody>\n",
       "    <tr>\n",
       "      <th>18</th>\n",
       "      <td>3</td>\n",
       "      <td>7</td>\n",
       "      <td>2019</td>\n",
       "      <td>104124</td>\n",
       "      <td>Yes</td>\n",
       "    </tr>\n",
       "    <tr>\n",
       "      <th>21</th>\n",
       "      <td>3</td>\n",
       "      <td>7</td>\n",
       "      <td>2019</td>\n",
       "      <td>104204</td>\n",
       "      <td>Yes</td>\n",
       "    </tr>\n",
       "    <tr>\n",
       "      <th>38</th>\n",
       "      <td>3</td>\n",
       "      <td>7</td>\n",
       "      <td>2019</td>\n",
       "      <td>106111</td>\n",
       "      <td>Yes</td>\n",
       "    </tr>\n",
       "    <tr>\n",
       "      <th>49</th>\n",
       "      <td>5</td>\n",
       "      <td>12</td>\n",
       "      <td>2019</td>\n",
       "      <td>106603</td>\n",
       "      <td>Yes</td>\n",
       "    </tr>\n",
       "    <tr>\n",
       "      <th>94</th>\n",
       "      <td>5</td>\n",
       "      <td>3</td>\n",
       "      <td>2019</td>\n",
       "      <td>113235</td>\n",
       "      <td>Yes</td>\n",
       "    </tr>\n",
       "    <tr>\n",
       "      <th>...</th>\n",
       "      <td>...</td>\n",
       "      <td>...</td>\n",
       "      <td>...</td>\n",
       "      <td>...</td>\n",
       "      <td>...</td>\n",
       "    </tr>\n",
       "    <tr>\n",
       "      <th>2136</th>\n",
       "      <td>5</td>\n",
       "      <td>0</td>\n",
       "      <td>2019</td>\n",
       "      <td>920339</td>\n",
       "      <td>Yes</td>\n",
       "    </tr>\n",
       "    <tr>\n",
       "      <th>2137</th>\n",
       "      <td>5</td>\n",
       "      <td>0</td>\n",
       "      <td>2019</td>\n",
       "      <td>930101</td>\n",
       "      <td>Yes</td>\n",
       "    </tr>\n",
       "    <tr>\n",
       "      <th>2138</th>\n",
       "      <td>5</td>\n",
       "      <td>0</td>\n",
       "      <td>2019</td>\n",
       "      <td>930200</td>\n",
       "      <td>Yes</td>\n",
       "    </tr>\n",
       "    <tr>\n",
       "      <th>2139</th>\n",
       "      <td>5</td>\n",
       "      <td>0</td>\n",
       "      <td>2019</td>\n",
       "      <td>930301</td>\n",
       "      <td>Yes</td>\n",
       "    </tr>\n",
       "    <tr>\n",
       "      <th>2144</th>\n",
       "      <td>5</td>\n",
       "      <td>0</td>\n",
       "      <td>2019</td>\n",
       "      <td>980004</td>\n",
       "      <td>Yes</td>\n",
       "    </tr>\n",
       "  </tbody>\n",
       "</table>\n",
       "<p>355 rows × 5 columns</p>\n",
       "</div>"
      ],
      "text/plain": [
       "     SD  CD Year_1 Tract_1 unincorpor\n",
       "18    3   7   2019  104124        Yes\n",
       "21    3   7   2019  104204        Yes\n",
       "38    3   7   2019  106111        Yes\n",
       "49    5  12   2019  106603        Yes\n",
       "94    5   3   2019  113235        Yes\n",
       "...  ..  ..    ...     ...        ...\n",
       "2136  5   0   2019  920339        Yes\n",
       "2137  5   0   2019  930101        Yes\n",
       "2138  5   0   2019  930200        Yes\n",
       "2139  5   0   2019  930301        Yes\n",
       "2144  5   0   2019  980004        Yes\n",
       "\n",
       "[355 rows x 5 columns]"
      ]
     },
     "execution_count": 190,
     "metadata": {},
     "output_type": "execute_result"
    }
   ],
   "source": [
    "# use .loc to fileter the pot_trimmed data and find unincorpor == Yes \n",
    "pot_trimmed.loc[pot_trimmed['unincorpor'] == 'Yes']"
   ]
  },
  {
   "cell_type": "code",
   "execution_count": 191,
   "id": "fa22181a-d831-4c51-ba10-57c52dc249b3",
   "metadata": {},
   "outputs": [
    {
     "data": {
      "text/html": [
       "<div>\n",
       "<style scoped>\n",
       "    .dataframe tbody tr th:only-of-type {\n",
       "        vertical-align: middle;\n",
       "    }\n",
       "\n",
       "    .dataframe tbody tr th {\n",
       "        vertical-align: top;\n",
       "    }\n",
       "\n",
       "    .dataframe thead th {\n",
       "        text-align: right;\n",
       "    }\n",
       "</style>\n",
       "<table border=\"1\" class=\"dataframe\">\n",
       "  <thead>\n",
       "    <tr style=\"text-align: right;\">\n",
       "      <th></th>\n",
       "      <th>SD</th>\n",
       "      <th>CD</th>\n",
       "      <th>Year_1</th>\n",
       "      <th>Tract_1</th>\n",
       "      <th>unincorpor</th>\n",
       "    </tr>\n",
       "  </thead>\n",
       "  <tbody>\n",
       "    <tr>\n",
       "      <th>0</th>\n",
       "      <td>5</td>\n",
       "      <td>9</td>\n",
       "      <td>2019</td>\n",
       "      <td>101110</td>\n",
       "      <td>No</td>\n",
       "    </tr>\n",
       "    <tr>\n",
       "      <th>1</th>\n",
       "      <td>5</td>\n",
       "      <td>7</td>\n",
       "      <td>2019</td>\n",
       "      <td>101122</td>\n",
       "      <td>No</td>\n",
       "    </tr>\n",
       "    <tr>\n",
       "      <th>2</th>\n",
       "      <td>5</td>\n",
       "      <td>7</td>\n",
       "      <td>2019</td>\n",
       "      <td>101210</td>\n",
       "      <td>No</td>\n",
       "    </tr>\n",
       "    <tr>\n",
       "      <th>3</th>\n",
       "      <td>5</td>\n",
       "      <td>7</td>\n",
       "      <td>2019</td>\n",
       "      <td>101220</td>\n",
       "      <td>No</td>\n",
       "    </tr>\n",
       "    <tr>\n",
       "      <th>4</th>\n",
       "      <td>5</td>\n",
       "      <td>7</td>\n",
       "      <td>2019</td>\n",
       "      <td>101300</td>\n",
       "      <td>No</td>\n",
       "    </tr>\n",
       "    <tr>\n",
       "      <th>...</th>\n",
       "      <td>...</td>\n",
       "      <td>...</td>\n",
       "      <td>...</td>\n",
       "      <td>...</td>\n",
       "      <td>...</td>\n",
       "    </tr>\n",
       "    <tr>\n",
       "      <th>2158</th>\n",
       "      <td>2</td>\n",
       "      <td>0</td>\n",
       "      <td>2019</td>\n",
       "      <td>980025</td>\n",
       "      <td>No</td>\n",
       "    </tr>\n",
       "    <tr>\n",
       "      <th>2159</th>\n",
       "      <td>5</td>\n",
       "      <td>7</td>\n",
       "      <td>2019</td>\n",
       "      <td>980026</td>\n",
       "      <td>No</td>\n",
       "    </tr>\n",
       "    <tr>\n",
       "      <th>2160</th>\n",
       "      <td>4</td>\n",
       "      <td>11</td>\n",
       "      <td>2019</td>\n",
       "      <td>980028</td>\n",
       "      <td>No</td>\n",
       "    </tr>\n",
       "    <tr>\n",
       "      <th>2161</th>\n",
       "      <td>4</td>\n",
       "      <td>0</td>\n",
       "      <td>2019</td>\n",
       "      <td>980030</td>\n",
       "      <td>No</td>\n",
       "    </tr>\n",
       "    <tr>\n",
       "      <th>2162</th>\n",
       "      <td>4</td>\n",
       "      <td>15</td>\n",
       "      <td>2019</td>\n",
       "      <td>980031</td>\n",
       "      <td>No</td>\n",
       "    </tr>\n",
       "  </tbody>\n",
       "</table>\n",
       "<p>1805 rows × 5 columns</p>\n",
       "</div>"
      ],
      "text/plain": [
       "     SD  CD Year_1 Tract_1 unincorpor\n",
       "0     5   9   2019  101110         No\n",
       "1     5   7   2019  101122         No\n",
       "2     5   7   2019  101210         No\n",
       "3     5   7   2019  101220         No\n",
       "4     5   7   2019  101300         No\n",
       "...  ..  ..    ...     ...        ...\n",
       "2158  2   0   2019  980025         No\n",
       "2159  5   7   2019  980026         No\n",
       "2160  4  11   2019  980028         No\n",
       "2161  4   0   2019  980030         No\n",
       "2162  4  15   2019  980031         No\n",
       "\n",
       "[1805 rows x 5 columns]"
      ]
     },
     "execution_count": 191,
     "metadata": {},
     "output_type": "execute_result"
    }
   ],
   "source": [
    "# use .loc to fileter the pot_trimmed data and find unincorpor == No\n",
    "pot_trimmed.loc[pot_trimmed['unincorpor'] == 'No']"
   ]
  },
  {
   "cell_type": "code",
   "execution_count": 192,
   "id": "bf90e376-f014-4bb2-8c9a-45bd5a921224",
   "metadata": {},
   "outputs": [
    {
     "data": {
      "text/html": [
       "<div>\n",
       "<style scoped>\n",
       "    .dataframe tbody tr th:only-of-type {\n",
       "        vertical-align: middle;\n",
       "    }\n",
       "\n",
       "    .dataframe tbody tr th {\n",
       "        vertical-align: top;\n",
       "    }\n",
       "\n",
       "    .dataframe thead th {\n",
       "        text-align: right;\n",
       "    }\n",
       "</style>\n",
       "<table border=\"1\" class=\"dataframe\">\n",
       "  <thead>\n",
       "    <tr style=\"text-align: right;\">\n",
       "      <th></th>\n",
       "      <th>SD</th>\n",
       "      <th>CD</th>\n",
       "      <th>Year_1</th>\n",
       "      <th>Tract_1</th>\n",
       "      <th>unincorpor</th>\n",
       "    </tr>\n",
       "  </thead>\n",
       "  <tbody>\n",
       "    <tr>\n",
       "      <th>0</th>\n",
       "      <td>5</td>\n",
       "      <td>9</td>\n",
       "      <td>2019</td>\n",
       "      <td>101110</td>\n",
       "      <td>No</td>\n",
       "    </tr>\n",
       "    <tr>\n",
       "      <th>1</th>\n",
       "      <td>5</td>\n",
       "      <td>7</td>\n",
       "      <td>2019</td>\n",
       "      <td>101122</td>\n",
       "      <td>No</td>\n",
       "    </tr>\n",
       "    <tr>\n",
       "      <th>2</th>\n",
       "      <td>5</td>\n",
       "      <td>7</td>\n",
       "      <td>2019</td>\n",
       "      <td>101210</td>\n",
       "      <td>No</td>\n",
       "    </tr>\n",
       "    <tr>\n",
       "      <th>3</th>\n",
       "      <td>5</td>\n",
       "      <td>7</td>\n",
       "      <td>2019</td>\n",
       "      <td>101220</td>\n",
       "      <td>No</td>\n",
       "    </tr>\n",
       "    <tr>\n",
       "      <th>4</th>\n",
       "      <td>5</td>\n",
       "      <td>7</td>\n",
       "      <td>2019</td>\n",
       "      <td>101300</td>\n",
       "      <td>No</td>\n",
       "    </tr>\n",
       "    <tr>\n",
       "      <th>...</th>\n",
       "      <td>...</td>\n",
       "      <td>...</td>\n",
       "      <td>...</td>\n",
       "      <td>...</td>\n",
       "      <td>...</td>\n",
       "    </tr>\n",
       "    <tr>\n",
       "      <th>2158</th>\n",
       "      <td>2</td>\n",
       "      <td>0</td>\n",
       "      <td>2019</td>\n",
       "      <td>980025</td>\n",
       "      <td>No</td>\n",
       "    </tr>\n",
       "    <tr>\n",
       "      <th>2159</th>\n",
       "      <td>5</td>\n",
       "      <td>7</td>\n",
       "      <td>2019</td>\n",
       "      <td>980026</td>\n",
       "      <td>No</td>\n",
       "    </tr>\n",
       "    <tr>\n",
       "      <th>2160</th>\n",
       "      <td>4</td>\n",
       "      <td>11</td>\n",
       "      <td>2019</td>\n",
       "      <td>980028</td>\n",
       "      <td>No</td>\n",
       "    </tr>\n",
       "    <tr>\n",
       "      <th>2161</th>\n",
       "      <td>4</td>\n",
       "      <td>0</td>\n",
       "      <td>2019</td>\n",
       "      <td>980030</td>\n",
       "      <td>No</td>\n",
       "    </tr>\n",
       "    <tr>\n",
       "      <th>2162</th>\n",
       "      <td>4</td>\n",
       "      <td>15</td>\n",
       "      <td>2019</td>\n",
       "      <td>980031</td>\n",
       "      <td>No</td>\n",
       "    </tr>\n",
       "  </tbody>\n",
       "</table>\n",
       "<p>1805 rows × 5 columns</p>\n",
       "</div>"
      ],
      "text/plain": [
       "     SD  CD Year_1 Tract_1 unincorpor\n",
       "0     5   9   2019  101110         No\n",
       "1     5   7   2019  101122         No\n",
       "2     5   7   2019  101210         No\n",
       "3     5   7   2019  101220         No\n",
       "4     5   7   2019  101300         No\n",
       "...  ..  ..    ...     ...        ...\n",
       "2158  2   0   2019  980025         No\n",
       "2159  5   7   2019  980026         No\n",
       "2160  4  11   2019  980028         No\n",
       "2161  4   0   2019  980030         No\n",
       "2162  4  15   2019  980031         No\n",
       "\n",
       "[1805 rows x 5 columns]"
      ]
     },
     "execution_count": 192,
     "metadata": {},
     "output_type": "execute_result"
    }
   ],
   "source": [
    "# use .query\n",
    "pot_trimmed.query(\"unincorpor == 'No'\")"
   ]
  },
  {
   "cell_type": "code",
   "execution_count": 210,
   "id": "4fa96eb2-e6fc-4b57-bae7-4976750cc323",
   "metadata": {},
   "outputs": [
    {
     "data": {
      "text/html": [
       "<div>\n",
       "<style scoped>\n",
       "    .dataframe tbody tr th:only-of-type {\n",
       "        vertical-align: middle;\n",
       "    }\n",
       "\n",
       "    .dataframe tbody tr th {\n",
       "        vertical-align: top;\n",
       "    }\n",
       "\n",
       "    .dataframe thead th {\n",
       "        text-align: right;\n",
       "    }\n",
       "</style>\n",
       "<table border=\"1\" class=\"dataframe\">\n",
       "  <thead>\n",
       "    <tr style=\"text-align: right;\">\n",
       "      <th></th>\n",
       "      <th>SPA</th>\n",
       "      <th>CD</th>\n",
       "    </tr>\n",
       "  </thead>\n",
       "  <tbody>\n",
       "    <tr>\n",
       "      <th>0</th>\n",
       "      <td>2</td>\n",
       "      <td>9</td>\n",
       "    </tr>\n",
       "    <tr>\n",
       "      <th>1</th>\n",
       "      <td>2</td>\n",
       "      <td>7</td>\n",
       "    </tr>\n",
       "    <tr>\n",
       "      <th>2</th>\n",
       "      <td>2</td>\n",
       "      <td>7</td>\n",
       "    </tr>\n",
       "    <tr>\n",
       "      <th>3</th>\n",
       "      <td>2</td>\n",
       "      <td>7</td>\n",
       "    </tr>\n",
       "    <tr>\n",
       "      <th>4</th>\n",
       "      <td>2</td>\n",
       "      <td>7</td>\n",
       "    </tr>\n",
       "    <tr>\n",
       "      <th>...</th>\n",
       "      <td>...</td>\n",
       "      <td>...</td>\n",
       "    </tr>\n",
       "    <tr>\n",
       "      <th>2158</th>\n",
       "      <td>8</td>\n",
       "      <td>0</td>\n",
       "    </tr>\n",
       "    <tr>\n",
       "      <th>2159</th>\n",
       "      <td>2</td>\n",
       "      <td>7</td>\n",
       "    </tr>\n",
       "    <tr>\n",
       "      <th>2160</th>\n",
       "      <td>5</td>\n",
       "      <td>11</td>\n",
       "    </tr>\n",
       "    <tr>\n",
       "      <th>2161</th>\n",
       "      <td>8</td>\n",
       "      <td>0</td>\n",
       "    </tr>\n",
       "    <tr>\n",
       "      <th>2162</th>\n",
       "      <td>8</td>\n",
       "      <td>15</td>\n",
       "    </tr>\n",
       "  </tbody>\n",
       "</table>\n",
       "<p>2163 rows × 2 columns</p>\n",
       "</div>"
      ],
      "text/plain": [
       "     SPA  CD\n",
       "0      2   9\n",
       "1      2   7\n",
       "2      2   7\n",
       "3      2   7\n",
       "4      2   7\n",
       "...   ..  ..\n",
       "2158   8   0\n",
       "2159   2   7\n",
       "2160   5  11\n",
       "2161   8   0\n",
       "2162   8  15\n",
       "\n",
       "[2163 rows x 2 columns]"
      ]
     },
     "execution_count": 210,
     "metadata": {},
     "output_type": "execute_result"
    }
   ],
   "source": [
    "new_choosed_columns = pot[['SPA','CD']]\n",
    "new_choosed_columns"
   ]
  },
  {
   "cell_type": "code",
   "execution_count": 208,
   "id": "24265a33-e5cf-4712-8e31-89556fa625a6",
   "metadata": {},
   "outputs": [
    {
     "data": {
      "text/plain": [
       "0       5\n",
       "1       5\n",
       "2       5\n",
       "3       5\n",
       "4       5\n",
       "       ..\n",
       "2158    2\n",
       "2159    5\n",
       "2160    4\n",
       "2161    4\n",
       "2162    4\n",
       "Name: SD, Length: 2163, dtype: object"
      ]
     },
     "execution_count": 208,
     "metadata": {},
     "output_type": "execute_result"
    }
   ],
   "source": [
    "# get the SD column in pot_trimmed\n",
    "pot_trimmed.SD"
   ]
  },
  {
   "cell_type": "code",
   "execution_count": 217,
   "id": "094a9d2c-1ebe-447b-8084-6e25767acdcf",
   "metadata": {},
   "outputs": [
    {
     "data": {
      "text/plain": [
       "0         Sunland-Tujunga NC\n",
       "1         Sunland-Tujunga NC\n",
       "2         Sunland-Tujunga NC\n",
       "3         Sunland-Tujunga NC\n",
       "4         Sunland-Tujunga NC\n",
       "                ...         \n",
       "2158                  Carson\n",
       "2159      Sunland-Tujunga NC\n",
       "2160    Westchester/Playa NC\n",
       "2161              El Segundo\n",
       "2162           Wilmington NC\n",
       "Name: Detailed_1, Length: 2163, dtype: object"
      ]
     },
     "execution_count": 217,
     "metadata": {},
     "output_type": "execute_result"
    }
   ],
   "source": [
    "#get Detailed_1 column\n",
    "pot['Detailed_1']"
   ]
  },
  {
   "cell_type": "code",
   "execution_count": 218,
   "id": "4eeee255-f1df-4a9f-85b4-6cd570cd1e7e",
   "metadata": {},
   "outputs": [
    {
     "data": {
      "text/plain": [
       "Detailed_1\n",
       "Santa Clarita                       44\n",
       "Torrance                            31\n",
       "Pomona                              30\n",
       "Palmdale                            29\n",
       "Lancaster                           29\n",
       "                                    ..\n",
       "Unincorporated Long Beach Island     1\n",
       "Marina Del Rey                       1\n",
       "Ladera Heights                       1\n",
       "Calabasas                            1\n",
       "Vincent                              1\n",
       "Name: count, Length: 248, dtype: int64"
      ]
     },
     "execution_count": 218,
     "metadata": {},
     "output_type": "execute_result"
    }
   ],
   "source": [
    "# count different versions in Detailed_1\n",
    "d_count = pot['Detailed_1'].value_counts()\n",
    "d_count"
   ]
  },
  {
   "cell_type": "code",
   "execution_count": 229,
   "id": "efeb6816-bcfe-4f4a-a28f-1c069dbab969",
   "metadata": {},
   "outputs": [
    {
     "data": {
      "text/plain": [
       "<Axes: xlabel='Detailed_1'>"
      ]
     },
     "execution_count": 229,
     "metadata": {},
     "output_type": "execute_result"
    },
    {
     "data": {
      "image/png": "[encoded data removed]",
      "text/plain": [
       "<Figure size 640x480 with 1 Axes>"
      ]
     },
     "metadata": {},
     "output_type": "display_data"
    }
   ],
   "source": [
    "# make a plot\n",
    "d_count.plot()\n"
   ]
  },
  {
   "cell_type": "code",
   "execution_count": 236,
   "id": "ed221286-8105-4adb-b4d4-59a31f560edb",
   "metadata": {},
   "outputs": [
    {
     "data": {
      "text/plain": [
       "<Axes: xlabel='Detailed_1'>"
      ]
     },
     "execution_count": 236,
     "metadata": {},
     "output_type": "execute_result"
    },
    {
     "data": {
      "image/png": "[encoded data removed]",
      "text/plain": [
       "<Figure size 2000x1200 with 1 Axes>"
      ]
     },
     "metadata": {},
     "output_type": "display_data"
    }
   ],
   "source": [
    "# to make it bigger\n",
    "d_count.plot(\n",
    "    figsize=(20,12),   #size of the plot (a bit bigger than the default)\n",
    "    legend=True\n",
    "           \n",
    ")"
   ]
  },
  {
   "cell_type": "code",
   "execution_count": 221,
   "id": "126d3072-df0c-4524-8586-b73d310fc603",
   "metadata": {},
   "outputs": [
    {
     "data": {
      "text/plain": [
       "Detailed_N\n",
       "Santa Clarita                                       44\n",
       "Torrance                                            31\n",
       "Pomona                                              30\n",
       "Palmdale                                            29\n",
       "Lancaster                                           29\n",
       "                                                    ..\n",
       "US Department of Veterans Affairs West LA Campus     1\n",
       "Marina Del Rey                                       1\n",
       "Ladera Heights                                       1\n",
       "Calabasas                                            1\n",
       "Vincent                                              1\n",
       "Name: count, Length: 249, dtype: int64"
      ]
     },
     "execution_count": 221,
     "metadata": {},
     "output_type": "execute_result"
    }
   ],
   "source": [
    "# count different versions in Detailed_n\n",
    "n_count = pot['Detailed_N'].value_counts()\n",
    "n_count"
   ]
  },
  {
   "cell_type": "code",
   "execution_count": 234,
   "id": "98f0317d-ffdf-4ee4-afa1-1e5bd38a9be8",
   "metadata": {},
   "outputs": [
    {
     "data": {
      "text/plain": [
       "<Axes: xlabel='Detailed_N'>"
      ]
     },
     "execution_count": 234,
     "metadata": {},
     "output_type": "execute_result"
    },
    {
     "data": {
      "image/png": "[encoded data removed]",
      "text/plain": [
       "<Figure size 1200x800 with 1 Axes>"
      ]
     },
     "metadata": {},
     "output_type": "display_data"
    }
   ],
   "source": [
    "n_count.plot(figsize=(12,8))"
   ]
  }
 ],
 "metadata": {
  "kernelspec": {
   "display_name": "Python 3 (ipykernel)",
   "language": "python",
   "name": "python3"
  },
  "language_info": {
   "codemirror_mode": {
    "name": "ipython",
    "version": 3
   },
   "file_extension": ".py",
   "mimetype": "text/x-python",
   "name": "python",
   "nbconvert_exporter": "python",
   "pygments_lexer": "ipython3",
   "version": "3.11.7"
  }
 },
 "nbformat": 4,
 "nbformat_minor": 5
}
